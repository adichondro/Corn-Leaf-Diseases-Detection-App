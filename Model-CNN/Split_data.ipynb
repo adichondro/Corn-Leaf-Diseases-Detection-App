{
 "cells": [
  {
   "cell_type": "code",
   "execution_count": 10,
   "metadata": {},
   "outputs": [],
   "source": [
    "import os\n",
    "import re\n",
    "import warnings\n",
    "warnings.filterwarnings(\"ignore\")\n",
    "from shutil import copyfile\n",
    "\n",
    "import numpy as np\n",
    "import pandas as pd\n",
    "import seaborn as sns\n",
    "\n",
    "from tqdm import tqdm\n",
    "\n",
    "%matplotlib inline\n",
    "import matplotlib\n",
    "import matplotlib.pyplot as plt\n",
    "from mpl_toolkits.axes_grid1 import ImageGrid"
   ]
  },
  {
   "cell_type": "code",
   "execution_count": 11,
   "metadata": {},
   "outputs": [
    {
     "name": "stdout",
     "output_type": "stream",
     "text": [
      "number of classes:  4\n"
     ]
    }
   ],
   "source": [
    "data_dir ='E:/dataset/Corn/Plant_leave_diseases_dataset_without_augmentation/'\n",
    "traintest_dir ='E:/dataset/Corn/Split_data/'\n",
    "classes = os.listdir(data_dir)\n",
    "num_classes = len(classes)\n",
    "print(\"number of classes: \", num_classes)"
   ]
  },
  {
   "cell_type": "code",
   "execution_count": 12,
   "metadata": {},
   "outputs": [],
   "source": [
    "os.mkdir(traintest_dir+'train')\n",
    "os.mkdir(traintest_dir+'test')"
   ]
  },
  {
   "cell_type": "code",
   "execution_count": 13,
   "metadata": {},
   "outputs": [],
   "source": [
    "for c in classes:\n",
    "  os.mkdir(traintest_dir+'train/' + c)\n",
    "  os.mkdir(traintest_dir+'test/'+ c)"
   ]
  },
  {
   "cell_type": "code",
   "execution_count": 14,
   "metadata": {},
   "outputs": [
    {
     "name": "stdout",
     "output_type": "stream",
     "text": [
      "number of classes 4\n",
      "number of images 3852\n"
     ]
    }
   ],
   "source": [
    "df = []\n",
    "for label, class_name in enumerate(classes):\n",
    "  path = data_dir + class_name\n",
    "\n",
    "  for file in os.listdir(path):\n",
    "    df.append(['{}/{}'.format(class_name, file), label, class_name])\n",
    "\n",
    "df = pd.DataFrame(df, columns=['file', 'label', 'class_name'])\n",
    "\n",
    "num_images = len(df)\n",
    "\n",
    "print(\"number of classes\", num_classes)\n",
    "print(\"number of images\", num_images)"
   ]
  },
  {
   "cell_type": "code",
   "execution_count": 15,
   "metadata": {},
   "outputs": [
    {
     "name": "stderr",
     "output_type": "stream",
     "text": [
      "100%|█████████████████████████████████████████████████████████████████████████████| 3852/3852 [00:22<00:00, 167.93it/s]\n"
     ]
    }
   ],
   "source": [
    "tr_size=0.8\n",
    "np.random.seed(50)\n",
    "num = np.random.binomial(1, tr_size, num_images)\n",
    "\n",
    "i = 0\n",
    "for file in tqdm(df['file'].values):\n",
    "    from_path = data_dir + file\n",
    "    if num[i] == 1:\n",
    "        to_path = traintest_dir + 'train/' + file\n",
    "    else:\n",
    "        to_path = traintest_dir + 'test/' + file\n",
    "        \n",
    "    copyfile(from_path, to_path)\n",
    "    i += 1"
   ]
  },
  {
   "cell_type": "code",
   "execution_count": 16,
   "metadata": {},
   "outputs": [],
   "source": [
    "TRAIN_DIR = 'E:/dataset/Corn/Split_data/train/'\n",
    "TEST_DIR = 'E:/dataset/Corn/Split_data/test/'"
   ]
  },
  {
   "cell_type": "code",
   "execution_count": 17,
   "metadata": {},
   "outputs": [
    {
     "name": "stdout",
     "output_type": "stream",
     "text": [
      "number of train images 3073\n",
      "number of test images 779\n"
     ]
    }
   ],
   "source": [
    "df = []\n",
    "for label, class_name in enumerate(classes):\n",
    "    #TRAIN\n",
    "    path = TRAIN_DIR + class_name\n",
    "    for file in os.listdir(path):\n",
    "        df.append(['{}/{}'.format(class_name, file), label, class_name, 1])\n",
    "    #TEST\n",
    "    path = TEST_DIR + class_name\n",
    "    for file in os.listdir(path):\n",
    "        df.append(['{}/{}'.format(class_name, file), label, class_name, 0])\n",
    "        \n",
    "        \n",
    "df = pd.DataFrame(df, columns=['file', 'label', 'class_name', 'train_ind'])\n",
    "\n",
    "num_train_samples = df.train_ind.sum()\n",
    "num_test_samples = len(df) - num_train_samples\n",
    "\n",
    "print(\"number of train images\", num_train_samples)\n",
    "print(\"number of test images\", num_test_samples)"
   ]
  },
  {
   "cell_type": "code",
   "execution_count": 18,
   "metadata": {},
   "outputs": [
    {
     "data": {
      "text/html": [
       "<div>\n",
       "<style scoped>\n",
       "    .dataframe tbody tr th:only-of-type {\n",
       "        vertical-align: middle;\n",
       "    }\n",
       "\n",
       "    .dataframe tbody tr th {\n",
       "        vertical-align: top;\n",
       "    }\n",
       "\n",
       "    .dataframe thead th {\n",
       "        text-align: right;\n",
       "    }\n",
       "</style>\n",
       "<table border=\"1\" class=\"dataframe\">\n",
       "  <thead>\n",
       "    <tr style=\"text-align: right;\">\n",
       "      <th></th>\n",
       "      <th>file</th>\n",
       "      <th>label</th>\n",
       "      <th>class_name</th>\n",
       "      <th>train_ind</th>\n",
       "    </tr>\n",
       "  </thead>\n",
       "  <tbody>\n",
       "    <tr>\n",
       "      <th>0</th>\n",
       "      <td>Corn___Cercospora_leaf_spot Gray_leaf_spot/ima...</td>\n",
       "      <td>0</td>\n",
       "      <td>Corn___Cercospora_leaf_spot Gray_leaf_spot</td>\n",
       "      <td>1</td>\n",
       "    </tr>\n",
       "    <tr>\n",
       "      <th>1</th>\n",
       "      <td>Corn___Cercospora_leaf_spot Gray_leaf_spot/ima...</td>\n",
       "      <td>0</td>\n",
       "      <td>Corn___Cercospora_leaf_spot Gray_leaf_spot</td>\n",
       "      <td>1</td>\n",
       "    </tr>\n",
       "    <tr>\n",
       "      <th>2</th>\n",
       "      <td>Corn___Cercospora_leaf_spot Gray_leaf_spot/ima...</td>\n",
       "      <td>0</td>\n",
       "      <td>Corn___Cercospora_leaf_spot Gray_leaf_spot</td>\n",
       "      <td>1</td>\n",
       "    </tr>\n",
       "    <tr>\n",
       "      <th>3</th>\n",
       "      <td>Corn___Cercospora_leaf_spot Gray_leaf_spot/ima...</td>\n",
       "      <td>0</td>\n",
       "      <td>Corn___Cercospora_leaf_spot Gray_leaf_spot</td>\n",
       "      <td>1</td>\n",
       "    </tr>\n",
       "    <tr>\n",
       "      <th>4</th>\n",
       "      <td>Corn___Cercospora_leaf_spot Gray_leaf_spot/ima...</td>\n",
       "      <td>0</td>\n",
       "      <td>Corn___Cercospora_leaf_spot Gray_leaf_spot</td>\n",
       "      <td>1</td>\n",
       "    </tr>\n",
       "  </tbody>\n",
       "</table>\n",
       "</div>"
      ],
      "text/plain": [
       "                                                file  label  \\\n",
       "0  Corn___Cercospora_leaf_spot Gray_leaf_spot/ima...      0   \n",
       "1  Corn___Cercospora_leaf_spot Gray_leaf_spot/ima...      0   \n",
       "2  Corn___Cercospora_leaf_spot Gray_leaf_spot/ima...      0   \n",
       "3  Corn___Cercospora_leaf_spot Gray_leaf_spot/ima...      0   \n",
       "4  Corn___Cercospora_leaf_spot Gray_leaf_spot/ima...      0   \n",
       "\n",
       "                                   class_name  train_ind  \n",
       "0  Corn___Cercospora_leaf_spot Gray_leaf_spot          1  \n",
       "1  Corn___Cercospora_leaf_spot Gray_leaf_spot          1  \n",
       "2  Corn___Cercospora_leaf_spot Gray_leaf_spot          1  \n",
       "3  Corn___Cercospora_leaf_spot Gray_leaf_spot          1  \n",
       "4  Corn___Cercospora_leaf_spot Gray_leaf_spot          1  "
      ]
     },
     "execution_count": 18,
     "metadata": {},
     "output_type": "execute_result"
    }
   ],
   "source": [
    "df.head()"
   ]
  },
  {
   "cell_type": "code",
   "execution_count": null,
   "metadata": {},
   "outputs": [],
   "source": []
  },
  {
   "cell_type": "code",
   "execution_count": null,
   "metadata": {},
   "outputs": [],
   "source": []
  },
  {
   "cell_type": "code",
   "execution_count": null,
   "metadata": {},
   "outputs": [],
   "source": []
  }
 ],
 "metadata": {
  "kernelspec": {
   "display_name": "Python 3",
   "language": "python",
   "name": "python3"
  },
  "language_info": {
   "codemirror_mode": {
    "name": "ipython",
    "version": 3
   },
   "file_extension": ".py",
   "mimetype": "text/x-python",
   "name": "python",
   "nbconvert_exporter": "python",
   "pygments_lexer": "ipython3",
   "version": "3.7.6"
  }
 },
 "nbformat": 4,
 "nbformat_minor": 4
}
