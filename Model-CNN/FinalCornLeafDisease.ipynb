{
  "nbformat": 4,
  "nbformat_minor": 0,
  "metadata": {
    "colab": {
      "name": "FinalCornLeafDisease.ipynb",
      "provenance": [],
      "collapsed_sections": []
    },
    "kernelspec": {
      "name": "python3",
      "display_name": "Python 3"
    },
    "accelerator": "GPU"
  },
  "cells": [
    {
      "cell_type": "code",
      "metadata": {
        "id": "wFOU7pzow82O",
        "colab_type": "code",
        "colab": {
          "base_uri": "https://localhost:8080/",
          "height": 34
        },
        "outputId": "c9288c4a-bc84-4d52-a5ee-9e5909e28142"
      },
      "source": [
        "import tensorflow as tf\n",
        "device_name = tf.test.gpu_device_name()\n",
        "if device_name != '/device:GPU:0':\n",
        "  raise SystemError('GPU device not found')\n",
        "print('Found GPU at: {}'.format(device_name))"
      ],
      "execution_count": null,
      "outputs": [
        {
          "output_type": "stream",
          "text": [
            "Found GPU at: /device:GPU:0\n"
          ],
          "name": "stdout"
        }
      ]
    },
    {
      "cell_type": "code",
      "metadata": {
        "id": "_6Juk5dtxQPf",
        "colab_type": "code",
        "colab": {
          "base_uri": "https://localhost:8080/",
          "height": 34
        },
        "outputId": "afa47150-4002-49c6-a250-37688718b372"
      },
      "source": [
        "from google.colab import drive\n",
        "drive.mount('/content/gdrive')"
      ],
      "execution_count": null,
      "outputs": [
        {
          "output_type": "stream",
          "text": [
            "Drive already mounted at /content/gdrive; to attempt to forcibly remount, call drive.mount(\"/content/gdrive\", force_remount=True).\n"
          ],
          "name": "stdout"
        }
      ]
    },
    {
      "cell_type": "code",
      "metadata": {
        "id": "3v4TwEFlxdbK",
        "colab_type": "code",
        "colab": {
          "base_uri": "https://localhost:8080/",
          "height": 71
        },
        "outputId": "af93f375-a3d9-4e4b-b902-be5484c55229"
      },
      "source": [
        "import cv2\n",
        "import numpy as np\n",
        "import pandas as pd\n",
        "import seaborn as sns\n",
        "import matplotlib.pyplot as plt\n",
        "from os import listdir\n",
        "from sklearn.preprocessing import LabelBinarizer\n",
        "from keras.models import Sequential\n",
        "from keras.layers.normalization import BatchNormalization\n",
        "from keras.layers.convolutional import Conv2D\n",
        "from keras.layers.convolutional import MaxPooling2D\n",
        "from keras.layers.core import Activation, Flatten, Dropout, Dense\n",
        "from keras import backend as K\n",
        "from keras.preprocessing.image import ImageDataGenerator\n",
        "from keras.optimizers import Adam\n",
        "from keras.preprocessing import image\n",
        "from keras.preprocessing.image import img_to_array\n",
        "from sklearn.preprocessing import MultiLabelBinarizer"
      ],
      "execution_count": null,
      "outputs": [
        {
          "output_type": "stream",
          "text": [
            "/usr/local/lib/python3.6/dist-packages/statsmodels/tools/_testing.py:19: FutureWarning: pandas.util.testing is deprecated. Use the functions in the public API at pandas.testing instead.\n",
            "  import pandas.util.testing as tm\n"
          ],
          "name": "stderr"
        }
      ]
    },
    {
      "cell_type": "code",
      "metadata": {
        "id": "Tykkxl04-dfx",
        "colab_type": "code",
        "colab": {}
      },
      "source": [
        "train_directory_root = '/content/gdrive/My Drive/Skripsi/Datasets/Corn/main_data/train/'\n",
        "val_directory_root = '/content/gdrive/My Drive/Skripsi/Datasets/Corn/main_data/validation/'\n",
        "test_directory_root = '/content/gdrive/My Drive/Skripsi/Datasets/Corn/main_data/test/'"
      ],
      "execution_count": null,
      "outputs": []
    },
    {
      "cell_type": "code",
      "metadata": {
        "id": "DgTlCIuwxoQh",
        "colab_type": "code",
        "colab": {}
      },
      "source": [
        "#Parameter\n",
        "EPOCHS = 50\n",
        "INIT_LR = 0.001\n",
        "batch_size = 32\n",
        "default_image_size = tuple((256, 256))\n",
        "image_size = 0\n",
        "width=256\n",
        "height=256\n",
        "depth=3"
      ],
      "execution_count": null,
      "outputs": []
    },
    {
      "cell_type": "code",
      "metadata": {
        "id": "rpiZADs8x3fR",
        "colab_type": "code",
        "colab": {}
      },
      "source": [
        "def convert_image_to_array(image_dir):\n",
        "    try:\n",
        "        image = cv2.imread(image_dir)\n",
        "        if image is not None :\n",
        "            image = cv2.resize(image, default_image_size)   \n",
        "            return img_to_array(image)\n",
        "        else :\n",
        "            return np.array([])\n",
        "    except Exception as e:\n",
        "        print(f\"Error : {e}\")\n",
        "        return None"
      ],
      "execution_count": null,
      "outputs": []
    },
    {
      "cell_type": "code",
      "metadata": {
        "id": "mL1N31GE_ue-",
        "colab_type": "code",
        "colab": {
          "base_uri": "https://localhost:8080/",
          "height": 119
        },
        "outputId": "a4b4a285-a002-470c-a815-3ab36316b615"
      },
      "source": [
        "train_image_list, train_label_list = [], []\n",
        "try:\n",
        "    print(\"[INFO] Loading images for Training ...\")\n",
        "    root_dir = listdir(train_directory_root)\n",
        "    for directory in root_dir :\n",
        "        # remove .DS_Store from list\n",
        "        if directory == \".DS_Store\" :\n",
        "            root_dir.remove(directory)\n",
        "\n",
        "    for plant_folder in root_dir :\n",
        "        plant_disease_folder_list = listdir(f\"{train_directory_root}/{plant_folder}\")\n",
        "        \n",
        "        for disease_folder in plant_disease_folder_list :\n",
        "            # remove .DS_Store from list\n",
        "            if disease_folder == \".DS_Store\" :\n",
        "                plant_disease_folder_list.remove(disease_folder)\n",
        "\n",
        "        for plant_disease_folder in plant_disease_folder_list:\n",
        "            print(f\"[INFO] Processing {plant_disease_folder} ...\")\n",
        "            plant_disease_image_list = listdir(f\"{train_directory_root}/{plant_folder}/{plant_disease_folder}/\")\n",
        "                \n",
        "            for single_plant_disease_image in plant_disease_image_list :\n",
        "                if single_plant_disease_image == \".DS_Store\" :\n",
        "                    plant_disease_image_list.remove(single_plant_disease_image)\n",
        "\n",
        "            for image in plant_disease_image_list:\n",
        "                image_directory = f\"{train_directory_root}/{plant_folder}/{plant_disease_folder}/{image}\"\n",
        "                if image_directory.endswith(\".jpg\") == True or image_directory.endswith(\".JPG\") == True:\n",
        "                    train_image_list.append(convert_image_to_array(image_directory))\n",
        "                    train_label_list.append(plant_disease_folder)\n",
        "    print(\"[INFO] Image loading completed\")  \n",
        "except Exception as e:\n",
        "    print(f\"Error : {e}\")"
      ],
      "execution_count": null,
      "outputs": [
        {
          "output_type": "stream",
          "text": [
            "[INFO] Loading images for Training ...\n",
            "[INFO] Processing Corn___Cercospora_leaf_spot Gray_leaf_spot ...\n",
            "[INFO] Processing Corn___healthy ...\n",
            "[INFO] Processing Corn___Common_rust ...\n",
            "[INFO] Processing Corn___Northern_Leaf_Blight ...\n",
            "[INFO] Image loading completed\n"
          ],
          "name": "stdout"
        }
      ]
    },
    {
      "cell_type": "code",
      "metadata": {
        "id": "8BkEMnA_KL65",
        "colab_type": "code",
        "colab": {
          "base_uri": "https://localhost:8080/",
          "height": 119
        },
        "outputId": "79fea825-249b-4121-c473-d995d9351021"
      },
      "source": [
        "val_image_list, val_label_list = [], []\n",
        "try:\n",
        "    print(\"[INFO] Loading images for Training ...\")\n",
        "    root_dir = listdir(val_directory_root)\n",
        "    for directory in root_dir :\n",
        "        # remove .DS_Store from list\n",
        "        if directory == \".DS_Store\" :\n",
        "            root_dir.remove(directory)\n",
        "\n",
        "    for plant_folder in root_dir :\n",
        "        plant_disease_folder_list = listdir(f\"{val_directory_root}/{plant_folder}\")\n",
        "        \n",
        "        for disease_folder in plant_disease_folder_list :\n",
        "            # remove .DS_Store from list\n",
        "            if disease_folder == \".DS_Store\" :\n",
        "                plant_disease_folder_list.remove(disease_folder)\n",
        "\n",
        "        for plant_disease_folder in plant_disease_folder_list:\n",
        "            print(f\"[INFO] Processing {plant_disease_folder} ...\")\n",
        "            plant_disease_image_list = listdir(f\"{val_directory_root}/{plant_folder}/{plant_disease_folder}/\")\n",
        "                \n",
        "            for single_plant_disease_image in plant_disease_image_list :\n",
        "                if single_plant_disease_image == \".DS_Store\" :\n",
        "                    plant_disease_image_list.remove(single_plant_disease_image)\n",
        "\n",
        "            for image in plant_disease_image_list:\n",
        "                image_directory = f\"{val_directory_root}/{plant_folder}/{plant_disease_folder}/{image}\"\n",
        "                if image_directory.endswith(\".jpg\") == True or image_directory.endswith(\".JPG\") == True:\n",
        "                    val_image_list.append(convert_image_to_array(image_directory))\n",
        "                    val_label_list.append(plant_disease_folder)\n",
        "    print(\"[INFO] Image loading completed\")  \n",
        "except Exception as e:\n",
        "    print(f\"Error : {e}\")"
      ],
      "execution_count": null,
      "outputs": [
        {
          "output_type": "stream",
          "text": [
            "[INFO] Loading images for Training ...\n",
            "[INFO] Processing Corn___healthy ...\n",
            "[INFO] Processing Corn___Cercospora_leaf_spot Gray_leaf_spot ...\n",
            "[INFO] Processing Corn___Common_rust ...\n",
            "[INFO] Processing Corn___Northern_Leaf_Blight ...\n",
            "[INFO] Image loading completed\n"
          ],
          "name": "stdout"
        }
      ]
    },
    {
      "cell_type": "code",
      "metadata": {
        "id": "u-DqDnLoKTz7",
        "colab_type": "code",
        "colab": {
          "base_uri": "https://localhost:8080/",
          "height": 119
        },
        "outputId": "70b2f906-4028-459b-ac71-ab6808e66b64"
      },
      "source": [
        "test_image_list, test_label_list = [], []\n",
        "try:\n",
        "    print(\"[INFO] Loading images for Training ...\")\n",
        "    root_dir = listdir(test_directory_root)\n",
        "    for directory in root_dir :\n",
        "        # remove .DS_Store from list\n",
        "        if directory == \".DS_Store\" :\n",
        "            root_dir.remove(directory)\n",
        "\n",
        "    for plant_folder in root_dir :\n",
        "        plant_disease_folder_list = listdir(f\"{test_directory_root}/{plant_folder}\")\n",
        "        \n",
        "        for disease_folder in plant_disease_folder_list :\n",
        "            # remove .DS_Store from list\n",
        "            if disease_folder == \".DS_Store\" :\n",
        "                plant_disease_folder_list.remove(disease_folder)\n",
        "\n",
        "        for plant_disease_folder in plant_disease_folder_list:\n",
        "            print(f\"[INFO] Processing {plant_disease_folder} ...\")\n",
        "            plant_disease_image_list = listdir(f\"{test_directory_root}/{plant_folder}/{plant_disease_folder}/\")\n",
        "                \n",
        "            for single_plant_disease_image in plant_disease_image_list :\n",
        "                if single_plant_disease_image == \".DS_Store\" :\n",
        "                    plant_disease_image_list.remove(single_plant_disease_image)\n",
        "\n",
        "            for image in plant_disease_image_list:\n",
        "                image_directory = f\"{test_directory_root}/{plant_folder}/{plant_disease_folder}/{image}\"\n",
        "                if image_directory.endswith(\".jpg\") == True or image_directory.endswith(\".JPG\") == True:\n",
        "                    test_image_list.append(convert_image_to_array(image_directory))\n",
        "                    test_label_list.append(plant_disease_folder)\n",
        "    print(\"[INFO] Image loading completed\")  \n",
        "except Exception as e:\n",
        "    print(f\"Error : {e}\")"
      ],
      "execution_count": null,
      "outputs": [
        {
          "output_type": "stream",
          "text": [
            "[INFO] Loading images for Training ...\n",
            "[INFO] Processing Corn___healthy ...\n",
            "[INFO] Processing Corn___Northern_Leaf_Blight ...\n",
            "[INFO] Processing Corn___Cercospora_leaf_spot Gray_leaf_spot ...\n",
            "[INFO] Processing Corn___Common_rust ...\n",
            "[INFO] Image loading completed\n"
          ],
          "name": "stdout"
        }
      ]
    },
    {
      "cell_type": "code",
      "metadata": {
        "id": "a886DNHtNVLT",
        "colab_type": "code",
        "colab": {
          "base_uri": "https://localhost:8080/",
          "height": 68
        },
        "outputId": "bdefc920-ad62-4cf2-81d9-5b301dc60b0b"
      },
      "source": [
        "train_image_size = len(train_image_list)\n",
        "print(train_image_size)\n",
        "val_image_size = len(val_image_list)\n",
        "print(val_image_size)\n",
        "test_image_size = len(test_image_list)\n",
        "print(test_image_size)"
      ],
      "execution_count": null,
      "outputs": [
        {
          "output_type": "stream",
          "text": [
            "3073\n",
            "376\n",
            "403\n"
          ],
          "name": "stdout"
        }
      ]
    },
    {
      "cell_type": "code",
      "metadata": {
        "id": "lgRntp_vNbG1",
        "colab_type": "code",
        "colab": {}
      },
      "source": [
        "x_train = np.array(train_image_list, dtype=np.float16) / 225.0\n",
        "x_val = np.array(val_image_list, dtype=np.float16) / 225.0\n",
        "x_test = np.array(test_image_list, dtype=np.float16) / 225.0"
      ],
      "execution_count": null,
      "outputs": []
    },
    {
      "cell_type": "code",
      "metadata": {
        "id": "KPiXwfWsR3Op",
        "colab_type": "code",
        "colab": {}
      },
      "source": [
        "label_binarizer = LabelBinarizer()\n",
        "y_train = label_binarizer.fit_transform(train_label_list)\n",
        "y_val = label_binarizer.fit_transform(val_label_list)\n",
        "y_test = label_binarizer.fit_transform(test_label_list)\n",
        "n_classes = len(label_binarizer.classes_)"
      ],
      "execution_count": null,
      "outputs": []
    },
    {
      "cell_type": "code",
      "metadata": {
        "id": "FEuINZRcR-DK",
        "colab_type": "code",
        "colab": {
          "base_uri": "https://localhost:8080/",
          "height": 119
        },
        "outputId": "608bfe1a-8e1e-4e19-a5d5-7740e8e30847"
      },
      "source": [
        "print(x_train.shape)\n",
        "print(x_val.shape)\n",
        "print(x_test.shape)\n",
        "print(y_train.shape)\n",
        "print(y_val.shape)\n",
        "print(y_test.shape)"
      ],
      "execution_count": null,
      "outputs": [
        {
          "output_type": "stream",
          "text": [
            "(3073, 256, 256, 3)\n",
            "(376, 256, 256, 3)\n",
            "(403, 256, 256, 3)\n",
            "(3073, 4)\n",
            "(376, 4)\n",
            "(403, 4)\n"
          ],
          "name": "stdout"
        }
      ]
    },
    {
      "cell_type": "code",
      "metadata": {
        "id": "dUorwqmlR-th",
        "colab_type": "code",
        "colab": {}
      },
      "source": [
        "aug = ImageDataGenerator(\n",
        "    rotation_range=25, width_shift_range=0.1,\n",
        "    height_shift_range=0.1, shear_range=0.2, \n",
        "    zoom_range=0.2,horizontal_flip=True, \n",
        "    fill_mode=\"nearest\")"
      ],
      "execution_count": null,
      "outputs": []
    },
    {
      "cell_type": "code",
      "metadata": {
        "id": "QVcPailFSKth",
        "colab_type": "code",
        "colab": {
          "base_uri": "https://localhost:8080/",
          "height": 1000
        },
        "outputId": "2053612d-24f6-4456-b4d9-69ce363b7038"
      },
      "source": [
        "model = Sequential()\n",
        "inputShape = (height, width, depth)\n",
        "\n",
        "model.add(Conv2D(32, (3, 3), padding=\"same\",input_shape=inputShape))\n",
        "model.add(Activation(\"relu\"))\n",
        "model.add(BatchNormalization())\n",
        "model.add(MaxPooling2D(pool_size=(2, 2)))\n",
        "\n",
        "model.add(Conv2D(64, (3, 3), padding=\"same\"))\n",
        "model.add(Activation(\"relu\"))\n",
        "model.add(BatchNormalization())\n",
        "model.add(Conv2D(64, (3, 3), padding=\"same\"))\n",
        "model.add(Activation(\"relu\"))\n",
        "model.add(BatchNormalization())\n",
        "model.add(MaxPooling2D(pool_size=(2, 2)))\n",
        "\n",
        "model.add(Conv2D(128, (3, 3), padding=\"same\"))\n",
        "model.add(Activation(\"relu\"))\n",
        "model.add(BatchNormalization())\n",
        "model.add(Conv2D(128, (3, 3), padding=\"same\"))\n",
        "model.add(Activation(\"relu\"))\n",
        "model.add(BatchNormalization())\n",
        "model.add(MaxPooling2D(pool_size=(2, 2)))\n",
        "\n",
        "model.add(Conv2D(256, (3, 3), padding=\"same\"))\n",
        "model.add(Activation(\"relu\"))\n",
        "model.add(BatchNormalization())\n",
        "model.add(Conv2D(256, (3, 3), padding=\"same\"))\n",
        "model.add(Activation(\"relu\"))\n",
        "model.add(BatchNormalization())\n",
        "model.add(MaxPooling2D(pool_size=(2, 2)))\n",
        "\n",
        "model.add(Flatten())\n",
        "model.add(Dense(256))\n",
        "model.add(Activation(\"relu\"))\n",
        "model.add(BatchNormalization())\n",
        "model.add(Dropout(0.5))\n",
        "model.add(Dense(128))\n",
        "model.add(Activation(\"relu\"))\n",
        "model.add(BatchNormalization())\n",
        "model.add(Dropout(0.5))\n",
        "model.add(Dense(64))\n",
        "model.add(Activation(\"relu\"))\n",
        "model.add(BatchNormalization())\n",
        "model.add(Dropout(0.5))\n",
        "\n",
        "model.add(Dense(n_classes))\n",
        "model.add(Activation(\"softmax\"))\n",
        "\n",
        "model.summary()"
      ],
      "execution_count": null,
      "outputs": [
        {
          "output_type": "stream",
          "text": [
            "Model: \"sequential\"\n",
            "_________________________________________________________________\n",
            "Layer (type)                 Output Shape              Param #   \n",
            "=================================================================\n",
            "conv2d (Conv2D)              (None, 256, 256, 32)      896       \n",
            "_________________________________________________________________\n",
            "activation (Activation)      (None, 256, 256, 32)      0         \n",
            "_________________________________________________________________\n",
            "batch_normalization (BatchNo (None, 256, 256, 32)      128       \n",
            "_________________________________________________________________\n",
            "max_pooling2d (MaxPooling2D) (None, 128, 128, 32)      0         \n",
            "_________________________________________________________________\n",
            "conv2d_1 (Conv2D)            (None, 128, 128, 64)      18496     \n",
            "_________________________________________________________________\n",
            "activation_1 (Activation)    (None, 128, 128, 64)      0         \n",
            "_________________________________________________________________\n",
            "batch_normalization_1 (Batch (None, 128, 128, 64)      256       \n",
            "_________________________________________________________________\n",
            "conv2d_2 (Conv2D)            (None, 128, 128, 64)      36928     \n",
            "_________________________________________________________________\n",
            "activation_2 (Activation)    (None, 128, 128, 64)      0         \n",
            "_________________________________________________________________\n",
            "batch_normalization_2 (Batch (None, 128, 128, 64)      256       \n",
            "_________________________________________________________________\n",
            "max_pooling2d_1 (MaxPooling2 (None, 64, 64, 64)        0         \n",
            "_________________________________________________________________\n",
            "conv2d_3 (Conv2D)            (None, 64, 64, 128)       73856     \n",
            "_________________________________________________________________\n",
            "activation_3 (Activation)    (None, 64, 64, 128)       0         \n",
            "_________________________________________________________________\n",
            "batch_normalization_3 (Batch (None, 64, 64, 128)       512       \n",
            "_________________________________________________________________\n",
            "conv2d_4 (Conv2D)            (None, 64, 64, 128)       147584    \n",
            "_________________________________________________________________\n",
            "activation_4 (Activation)    (None, 64, 64, 128)       0         \n",
            "_________________________________________________________________\n",
            "batch_normalization_4 (Batch (None, 64, 64, 128)       512       \n",
            "_________________________________________________________________\n",
            "max_pooling2d_2 (MaxPooling2 (None, 32, 32, 128)       0         \n",
            "_________________________________________________________________\n",
            "conv2d_5 (Conv2D)            (None, 32, 32, 256)       295168    \n",
            "_________________________________________________________________\n",
            "activation_5 (Activation)    (None, 32, 32, 256)       0         \n",
            "_________________________________________________________________\n",
            "batch_normalization_5 (Batch (None, 32, 32, 256)       1024      \n",
            "_________________________________________________________________\n",
            "conv2d_6 (Conv2D)            (None, 32, 32, 256)       590080    \n",
            "_________________________________________________________________\n",
            "activation_6 (Activation)    (None, 32, 32, 256)       0         \n",
            "_________________________________________________________________\n",
            "batch_normalization_6 (Batch (None, 32, 32, 256)       1024      \n",
            "_________________________________________________________________\n",
            "max_pooling2d_3 (MaxPooling2 (None, 16, 16, 256)       0         \n",
            "_________________________________________________________________\n",
            "flatten (Flatten)            (None, 65536)             0         \n",
            "_________________________________________________________________\n",
            "dense (Dense)                (None, 256)               16777472  \n",
            "_________________________________________________________________\n",
            "activation_7 (Activation)    (None, 256)               0         \n",
            "_________________________________________________________________\n",
            "batch_normalization_7 (Batch (None, 256)               1024      \n",
            "_________________________________________________________________\n",
            "dropout (Dropout)            (None, 256)               0         \n",
            "_________________________________________________________________\n",
            "dense_1 (Dense)              (None, 128)               32896     \n",
            "_________________________________________________________________\n",
            "activation_8 (Activation)    (None, 128)               0         \n",
            "_________________________________________________________________\n",
            "batch_normalization_8 (Batch (None, 128)               512       \n",
            "_________________________________________________________________\n",
            "dropout_1 (Dropout)          (None, 128)               0         \n",
            "_________________________________________________________________\n",
            "dense_2 (Dense)              (None, 64)                8256      \n",
            "_________________________________________________________________\n",
            "activation_9 (Activation)    (None, 64)                0         \n",
            "_________________________________________________________________\n",
            "batch_normalization_9 (Batch (None, 64)                256       \n",
            "_________________________________________________________________\n",
            "dropout_2 (Dropout)          (None, 64)                0         \n",
            "_________________________________________________________________\n",
            "dense_3 (Dense)              (None, 4)                 260       \n",
            "_________________________________________________________________\n",
            "activation_10 (Activation)   (None, 4)                 0         \n",
            "=================================================================\n",
            "Total params: 17,987,396\n",
            "Trainable params: 17,984,644\n",
            "Non-trainable params: 2,752\n",
            "_________________________________________________________________\n"
          ],
          "name": "stdout"
        }
      ]
    },
    {
      "cell_type": "code",
      "metadata": {
        "id": "OjKTXIOWSR7n",
        "colab_type": "code",
        "colab": {
          "base_uri": "https://localhost:8080/",
          "height": 34
        },
        "outputId": "25eac13c-0146-4da2-d878-f8bdf7400f40"
      },
      "source": [
        "opt = Adam(lr=INIT_LR, decay=INIT_LR / EPOCHS)\n",
        "# distribution\n",
        "model.compile(loss=\"binary_crossentropy\", optimizer=opt,metrics=[\"accuracy\"])\n",
        "# train the network\n",
        "print(\"[INFO] training network...\")"
      ],
      "execution_count": null,
      "outputs": [
        {
          "output_type": "stream",
          "text": [
            "[INFO] training network...\n"
          ],
          "name": "stdout"
        }
      ]
    },
    {
      "cell_type": "code",
      "metadata": {
        "id": "WjIRPcdESVP6",
        "colab_type": "code",
        "colab": {
          "base_uri": "https://localhost:8080/",
          "height": 1000
        },
        "outputId": "1168ddff-770c-4ec5-f808-65a27b200e1e"
      },
      "source": [
        "from keras.callbacks import ReduceLROnPlateau\n",
        "lr_reducer = ReduceLROnPlateau(monitor='val_accuracy', factor=0.5, patience=3)\n",
        "history = model.fit(\n",
        "    aug.flow(x_train, y_train, batch_size=batch_size),\n",
        "    validation_data=(x_val, y_val),\n",
        "    steps_per_epoch=len(x_train) // batch_size,\n",
        "    epochs=EPOCHS, verbose=1,\n",
        "    callbacks=[lr_reducer]\n",
        "    )"
      ],
      "execution_count": null,
      "outputs": [
        {
          "output_type": "stream",
          "text": [
            "Epoch 1/50\n",
            "96/96 [==============================] - 46s 475ms/step - loss: 0.3738 - accuracy: 0.6620 - val_loss: 1.2326 - val_accuracy: 0.3191\n",
            "Epoch 2/50\n",
            "96/96 [==============================] - 43s 444ms/step - loss: 0.1913 - accuracy: 0.8270 - val_loss: 1.3360 - val_accuracy: 0.2793\n",
            "Epoch 3/50\n",
            "96/96 [==============================] - 44s 459ms/step - loss: 0.1543 - accuracy: 0.8773 - val_loss: 1.0505 - val_accuracy: 0.4016\n",
            "Epoch 4/50\n",
            "96/96 [==============================] - 43s 451ms/step - loss: 0.1377 - accuracy: 0.8885 - val_loss: 0.6853 - val_accuracy: 0.5559\n",
            "Epoch 5/50\n",
            "96/96 [==============================] - 43s 449ms/step - loss: 0.1170 - accuracy: 0.9119 - val_loss: 0.4616 - val_accuracy: 0.6835\n",
            "Epoch 6/50\n",
            "96/96 [==============================] - 43s 450ms/step - loss: 0.1049 - accuracy: 0.9300 - val_loss: 0.1846 - val_accuracy: 0.8590\n",
            "Epoch 7/50\n",
            "96/96 [==============================] - 43s 450ms/step - loss: 0.0951 - accuracy: 0.9254 - val_loss: 0.0531 - val_accuracy: 0.9521\n",
            "Epoch 8/50\n",
            "96/96 [==============================] - 44s 454ms/step - loss: 0.0864 - accuracy: 0.9316 - val_loss: 0.1290 - val_accuracy: 0.9229\n",
            "Epoch 9/50\n",
            "96/96 [==============================] - 43s 450ms/step - loss: 0.0832 - accuracy: 0.9372 - val_loss: 0.0630 - val_accuracy: 0.9468\n",
            "Epoch 10/50\n",
            "96/96 [==============================] - 43s 447ms/step - loss: 0.0826 - accuracy: 0.9395 - val_loss: 0.0846 - val_accuracy: 0.9415\n",
            "Epoch 11/50\n",
            "96/96 [==============================] - 42s 442ms/step - loss: 0.0806 - accuracy: 0.9421 - val_loss: 0.1703 - val_accuracy: 0.8697\n",
            "Epoch 12/50\n",
            "96/96 [==============================] - 42s 441ms/step - loss: 0.0713 - accuracy: 0.9461 - val_loss: 0.2271 - val_accuracy: 0.7979\n",
            "Epoch 13/50\n",
            "96/96 [==============================] - 42s 442ms/step - loss: 0.0661 - accuracy: 0.9523 - val_loss: 0.0402 - val_accuracy: 0.9707\n",
            "Epoch 14/50\n",
            "96/96 [==============================] - 42s 441ms/step - loss: 0.0684 - accuracy: 0.9520 - val_loss: 0.0523 - val_accuracy: 0.9548\n",
            "Epoch 15/50\n",
            "96/96 [==============================] - 43s 449ms/step - loss: 0.0714 - accuracy: 0.9494 - val_loss: 0.0725 - val_accuracy: 0.9468\n",
            "Epoch 16/50\n",
            "96/96 [==============================] - 43s 446ms/step - loss: 0.0612 - accuracy: 0.9546 - val_loss: 0.0636 - val_accuracy: 0.9468\n",
            "Epoch 17/50\n",
            "96/96 [==============================] - 42s 441ms/step - loss: 0.0551 - accuracy: 0.9602 - val_loss: 0.1310 - val_accuracy: 0.8936\n",
            "Epoch 18/50\n",
            "96/96 [==============================] - 42s 440ms/step - loss: 0.0521 - accuracy: 0.9642 - val_loss: 0.2733 - val_accuracy: 0.7952\n",
            "Epoch 19/50\n",
            "96/96 [==============================] - 42s 439ms/step - loss: 0.0541 - accuracy: 0.9615 - val_loss: 0.0717 - val_accuracy: 0.9415\n",
            "Epoch 20/50\n",
            "96/96 [==============================] - 42s 437ms/step - loss: 0.0515 - accuracy: 0.9619 - val_loss: 0.1034 - val_accuracy: 0.9122\n",
            "Epoch 21/50\n",
            "96/96 [==============================] - 42s 435ms/step - loss: 0.0518 - accuracy: 0.9678 - val_loss: 0.0363 - val_accuracy: 0.9681\n",
            "Epoch 22/50\n",
            "96/96 [==============================] - 42s 437ms/step - loss: 0.0448 - accuracy: 0.9707 - val_loss: 0.0402 - val_accuracy: 0.9707\n",
            "Epoch 23/50\n",
            "96/96 [==============================] - 42s 437ms/step - loss: 0.0482 - accuracy: 0.9684 - val_loss: 0.0389 - val_accuracy: 0.9761\n",
            "Epoch 24/50\n",
            "96/96 [==============================] - 42s 437ms/step - loss: 0.0412 - accuracy: 0.9711 - val_loss: 0.0376 - val_accuracy: 0.9787\n",
            "Epoch 25/50\n",
            "96/96 [==============================] - 42s 436ms/step - loss: 0.0397 - accuracy: 0.9720 - val_loss: 0.0318 - val_accuracy: 0.9787\n",
            "Epoch 26/50\n",
            "96/96 [==============================] - 42s 436ms/step - loss: 0.0430 - accuracy: 0.9701 - val_loss: 0.0777 - val_accuracy: 0.9441\n",
            "Epoch 27/50\n",
            "96/96 [==============================] - 42s 435ms/step - loss: 0.0388 - accuracy: 0.9750 - val_loss: 0.0274 - val_accuracy: 0.9840\n",
            "Epoch 28/50\n",
            "96/96 [==============================] - 42s 435ms/step - loss: 0.0450 - accuracy: 0.9711 - val_loss: 0.0276 - val_accuracy: 0.9787\n",
            "Epoch 29/50\n",
            "96/96 [==============================] - 42s 438ms/step - loss: 0.0482 - accuracy: 0.9678 - val_loss: 0.0317 - val_accuracy: 0.9787\n",
            "Epoch 30/50\n",
            "96/96 [==============================] - 42s 437ms/step - loss: 0.0413 - accuracy: 0.9707 - val_loss: 0.0468 - val_accuracy: 0.9601\n",
            "Epoch 31/50\n",
            "96/96 [==============================] - 42s 435ms/step - loss: 0.0389 - accuracy: 0.9747 - val_loss: 0.0284 - val_accuracy: 0.9787\n",
            "Epoch 32/50\n",
            "96/96 [==============================] - 42s 435ms/step - loss: 0.0398 - accuracy: 0.9724 - val_loss: 0.0337 - val_accuracy: 0.9787\n",
            "Epoch 33/50\n",
            "96/96 [==============================] - 42s 437ms/step - loss: 0.0429 - accuracy: 0.9717 - val_loss: 0.0291 - val_accuracy: 0.9787\n",
            "Epoch 34/50\n",
            "96/96 [==============================] - 42s 435ms/step - loss: 0.0478 - accuracy: 0.9704 - val_loss: 0.0285 - val_accuracy: 0.9840\n",
            "Epoch 35/50\n",
            "96/96 [==============================] - 42s 435ms/step - loss: 0.0351 - accuracy: 0.9767 - val_loss: 0.0256 - val_accuracy: 0.9840\n",
            "Epoch 36/50\n",
            "96/96 [==============================] - 42s 434ms/step - loss: 0.0369 - accuracy: 0.9753 - val_loss: 0.0254 - val_accuracy: 0.9840\n",
            "Epoch 37/50\n",
            "96/96 [==============================] - 42s 437ms/step - loss: 0.0374 - accuracy: 0.9770 - val_loss: 0.0265 - val_accuracy: 0.9814\n",
            "Epoch 38/50\n",
            "96/96 [==============================] - 42s 435ms/step - loss: 0.0401 - accuracy: 0.9750 - val_loss: 0.0290 - val_accuracy: 0.9787\n",
            "Epoch 39/50\n",
            "96/96 [==============================] - 42s 435ms/step - loss: 0.0321 - accuracy: 0.9813 - val_loss: 0.0273 - val_accuracy: 0.9814\n",
            "Epoch 40/50\n",
            "96/96 [==============================] - 42s 433ms/step - loss: 0.0348 - accuracy: 0.9763 - val_loss: 0.0270 - val_accuracy: 0.9814\n",
            "Epoch 41/50\n",
            "96/96 [==============================] - 42s 435ms/step - loss: 0.0368 - accuracy: 0.9767 - val_loss: 0.0259 - val_accuracy: 0.9814\n",
            "Epoch 42/50\n",
            "96/96 [==============================] - 42s 434ms/step - loss: 0.0329 - accuracy: 0.9783 - val_loss: 0.0256 - val_accuracy: 0.9840\n",
            "Epoch 43/50\n",
            "96/96 [==============================] - 42s 435ms/step - loss: 0.0348 - accuracy: 0.9793 - val_loss: 0.0253 - val_accuracy: 0.9840\n",
            "Epoch 44/50\n",
            "96/96 [==============================] - 42s 434ms/step - loss: 0.0371 - accuracy: 0.9747 - val_loss: 0.0252 - val_accuracy: 0.9840\n",
            "Epoch 45/50\n",
            "96/96 [==============================] - 42s 436ms/step - loss: 0.0349 - accuracy: 0.9767 - val_loss: 0.0255 - val_accuracy: 0.9814\n",
            "Epoch 46/50\n",
            "96/96 [==============================] - 42s 433ms/step - loss: 0.0358 - accuracy: 0.9790 - val_loss: 0.0261 - val_accuracy: 0.9840\n",
            "Epoch 47/50\n",
            "96/96 [==============================] - 41s 432ms/step - loss: 0.0353 - accuracy: 0.9750 - val_loss: 0.0260 - val_accuracy: 0.9840\n",
            "Epoch 48/50\n",
            "96/96 [==============================] - 42s 433ms/step - loss: 0.0379 - accuracy: 0.9744 - val_loss: 0.0256 - val_accuracy: 0.9840\n",
            "Epoch 49/50\n",
            "96/96 [==============================] - 42s 433ms/step - loss: 0.0395 - accuracy: 0.9720 - val_loss: 0.0257 - val_accuracy: 0.9814\n",
            "Epoch 50/50\n",
            "96/96 [==============================] - 42s 435ms/step - loss: 0.0349 - accuracy: 0.9757 - val_loss: 0.0255 - val_accuracy: 0.9840\n"
          ],
          "name": "stdout"
        }
      ]
    },
    {
      "cell_type": "code",
      "metadata": {
        "id": "5yAuuWW2W-Z6",
        "colab_type": "code",
        "colab": {
          "base_uri": "https://localhost:8080/",
          "height": 545
        },
        "outputId": "fd3ee41b-b0d1-4ab8-abe7-0da7f87553f3"
      },
      "source": [
        "acc = history.history['accuracy']\n",
        "val_acc = history.history['val_accuracy']\n",
        "loss = history.history['loss']\n",
        "val_loss = history.history['val_loss']\n",
        "epochs = range(1, len(acc) + 1)\n",
        "#Train and validation accuracy\n",
        "plt.plot(epochs, acc, 'b', label='Training accurarcy')\n",
        "plt.plot(epochs, val_acc, 'r', label='Validation accurarcy')\n",
        "plt.title('Training and Validation accurarcy')\n",
        "plt.legend()\n",
        "\n",
        "plt.figure()\n",
        "#Train and validation loss\n",
        "plt.plot(epochs, loss, 'b', label='Training loss')\n",
        "plt.plot(epochs, val_loss, 'r', label='Validation loss')\n",
        "plt.title('Training and Validation loss')\n",
        "plt.legend()\n",
        "plt.show()"
      ],
      "execution_count": null,
      "outputs": [
        {
          "output_type": "display_data",
          "data": {
            "image/png": "[encoded data removed]",
            "text/plain": [
              "<Figure size 432x288 with 1 Axes>"
            ]
          },
          "metadata": {
            "tags": [],
            "needs_background": "light"
          }
        },
        {
          "output_type": "display_data",
          "data": {
            "image/png": "[encoded data removed]",
            "text/plain": [
              "<Figure size 432x288 with 1 Axes>"
            ]
          },
          "metadata": {
            "tags": [],
            "needs_background": "light"
          }
        }
      ]
    },
    {
      "cell_type": "code",
      "metadata": {
        "id": "RLl1yCTGXBJf",
        "colab_type": "code",
        "colab": {
          "base_uri": "https://localhost:8080/",
          "height": 68
        },
        "outputId": "9e377f16-7fc9-490d-b238-5d56d8b219c7"
      },
      "source": [
        "loss, accuracy = model.evaluate(x_test,y_test,verbose=1)\n",
        "print(\"Test loss is {}\".format(loss))\n",
        "print(\"Test accuracy is {}\".format(accuracy))\n"
      ],
      "execution_count": null,
      "outputs": [
        {
          "output_type": "stream",
          "text": [
            "13/13 [==============================] - 1s 74ms/step - loss: 0.0227 - accuracy: 0.9876\n",
            "Test loss is 0.02269933745265007\n",
            "Test accuracy is 0.9875930547714233\n"
          ],
          "name": "stdout"
        }
      ]
    },
    {
      "cell_type": "code",
      "metadata": {
        "id": "rMqOW5uVXMwu",
        "colab_type": "code",
        "colab": {
          "base_uri": "https://localhost:8080/",
          "height": 497
        },
        "outputId": "483a62bd-9418-4e7c-de00-16c68e0c8060"
      },
      "source": [
        "from sklearn.metrics import confusion_matrix\n",
        "\n",
        "y_true=np.argmax(y_test, axis=1)\n",
        "y_pred = model.predict(x_test).argmax(axis=1)\n",
        "cf_matrix = confusion_matrix(y_true, y_pred)\n",
        "n_labellist = list(dict.fromkeys(train_label_list))\n",
        "class_name = ['Gray Leaf Spot', 'Common Rust', 'Northern Leaf Blight','Healty']\n",
        "cf_df = pd.DataFrame(cf_matrix)\n",
        "cf_df.index.name = 'Actual'\n",
        "cf_df.columns.name = 'Predicted'\n",
        "\n",
        "plt.figure(figsize=(10,8))\n",
        "sns.heatmap(cf_df, cmap='Blues', annot=True, fmt='d', xticklabels=class_name, yticklabels=class_name)\n",
        "plt.yticks(rotation=0)\n",
        "plt.show()"
      ],
      "execution_count": null,
      "outputs": [
        {
          "output_type": "display_data",
          "data": {
            "image/png": "[encoded data removed]",
            "text/plain": [
              "<Figure size 720x576 with 2 Axes>"
            ]
          },
          "metadata": {
            "tags": [],
            "needs_background": "light"
          }
        }
      ]
    },
    {
      "cell_type": "code",
      "metadata": {
        "id": "y3G1timNXYOW",
        "colab_type": "code",
        "colab": {
          "base_uri": "https://localhost:8080/",
          "height": 204
        },
        "outputId": "fdc3fb23-fed8-4ebc-bbe1-788ececce067"
      },
      "source": [
        "from sklearn.metrics import classification_report\n",
        "print(classification_report(y_true,y_pred,target_names=class_name))"
      ],
      "execution_count": null,
      "outputs": [
        {
          "output_type": "stream",
          "text": [
            "                      precision    recall  f1-score   support\n",
            "\n",
            "      Gray Leaf Spot       0.93      0.96      0.95        45\n",
            "         Common Rust       1.00      1.00      1.00       142\n",
            "Northern Leaf Blight       0.98      0.97      0.97        95\n",
            "              Healty       1.00      1.00      1.00       121\n",
            "\n",
            "            accuracy                           0.99       403\n",
            "           macro avg       0.98      0.98      0.98       403\n",
            "        weighted avg       0.99      0.99      0.99       403\n",
            "\n"
          ],
          "name": "stdout"
        }
      ]
    },
    {
      "cell_type": "code",
      "metadata": {
        "id": "GFR0CsVj3BNG",
        "colab_type": "code",
        "colab": {}
      },
      "source": [
        "from keras.models import load_model\n",
        "model.save('/content/gdrive/My Drive/Skripsi/Model/CornModel.h5')"
      ],
      "execution_count": null,
      "outputs": []
    },
    {
      "cell_type": "code",
      "metadata": {
        "id": "UNnaqJRM3U8G",
        "colab_type": "code",
        "colab": {}
      },
      "source": [
        "# Save model weights.\n",
        "from keras.models import load_model\n",
        "model.save_weights('/content/gdrive/My Drive/Skripsi/Model/CornModel_weights.h5')"
      ],
      "execution_count": null,
      "outputs": []
    },
    {
      "cell_type": "code",
      "metadata": {
        "id": "cjH_fOHm3dD3",
        "colab_type": "code",
        "colab": {
          "base_uri": "https://localhost:8080/",
          "height": 173
        },
        "outputId": "c4148bc3-43e7-4fb4-9fff-3db676f22b42"
      },
      "source": [
        "import tensorflow as tf\n",
        "\n",
        "new_model= tf.keras.models.load_model(filepath='/content/gdrive/My Drive/Skripsi/Model/CornModel.h5')\n",
        "tflite_converter = tf.lite.TFLiteConverter.from_keras_model(new_model)\n",
        "tflite_model = tflite_converter.convert()\n",
        "open(\"/content/gdrive/My Drive/Skripsi/Model/TF_Lite_CornModel.tflite\", \"wb\").write(tflite_model)\n",
        "print(\"Success\")"
      ],
      "execution_count": null,
      "outputs": [
        {
          "output_type": "stream",
          "text": [
            "WARNING:tensorflow:From /usr/local/lib/python3.6/dist-packages/tensorflow/python/training/tracking/tracking.py:111: Model.state_updates (from tensorflow.python.keras.engine.training) is deprecated and will be removed in a future version.\n",
            "Instructions for updating:\n",
            "This property should not be used in TensorFlow 2.0, as updates are applied automatically.\n",
            "WARNING:tensorflow:From /usr/local/lib/python3.6/dist-packages/tensorflow/python/training/tracking/tracking.py:111: Layer.updates (from tensorflow.python.keras.engine.base_layer) is deprecated and will be removed in a future version.\n",
            "Instructions for updating:\n",
            "This property should not be used in TensorFlow 2.0, as updates are applied automatically.\n",
            "INFO:tensorflow:Assets written to: /tmp/tmpf7rgtxno/assets\n",
            "Success\n"
          ],
          "name": "stdout"
        }
      ]
    }
  ]
}