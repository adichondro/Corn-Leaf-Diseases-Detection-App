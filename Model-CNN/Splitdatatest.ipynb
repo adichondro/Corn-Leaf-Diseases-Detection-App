{
 "cells": [
  {
   "cell_type": "code",
   "execution_count": 4,
   "metadata": {},
   "outputs": [],
   "source": [
    "import os\n",
    "import re\n",
    "import warnings\n",
    "warnings.filterwarnings(\"ignore\")\n",
    "from shutil import copyfile\n",
    "\n",
    "import numpy as np\n",
    "import pandas as pd\n",
    "import seaborn as sns\n",
    "\n",
    "from tqdm import tqdm"
   ]
  },
  {
   "cell_type": "code",
   "execution_count": 5,
   "metadata": {},
   "outputs": [
    {
     "name": "stdout",
     "output_type": "stream",
     "text": [
      "number of classes:  4\n"
     ]
    }
   ],
   "source": [
    "data_dir ='E:/dataset/Corn/Split_data/test/'\n",
    "valtest_dir ='E:/dataset/Corn/Split_data/valtest/'\n",
    "classes = os.listdir(data_dir)\n",
    "num_classes = len(classes)\n",
    "print(\"number of classes: \", num_classes)"
   ]
  },
  {
   "cell_type": "code",
   "execution_count": 6,
   "metadata": {},
   "outputs": [],
   "source": [
    "os.mkdir(valtest_dir+'val')\n",
    "os.mkdir(valtest_dir+'test')"
   ]
  },
  {
   "cell_type": "code",
   "execution_count": 7,
   "metadata": {},
   "outputs": [],
   "source": [
    "for c in classes:\n",
    "  os.mkdir(valtest_dir+'val/' + c)\n",
    "  os.mkdir(valtest_dir+'test/'+ c)"
   ]
  },
  {
   "cell_type": "code",
   "execution_count": 8,
   "metadata": {},
   "outputs": [
    {
     "name": "stdout",
     "output_type": "stream",
     "text": [
      "number of classes 4\n",
      "number of images 779\n"
     ]
    }
   ],
   "source": [
    "df = []\n",
    "for label, class_name in enumerate(classes):\n",
    "  path = data_dir + class_name\n",
    "\n",
    "  for file in os.listdir(path):\n",
    "    df.append(['{}/{}'.format(class_name, file), label, class_name])\n",
    "\n",
    "df = pd.DataFrame(df, columns=['file', 'label', 'class_name'])\n",
    "\n",
    "num_images = len(df)\n",
    "\n",
    "print(\"number of classes\", num_classes)\n",
    "print(\"number of images\", num_images)"
   ]
  },
  {
   "cell_type": "code",
   "execution_count": 9,
   "metadata": {},
   "outputs": [
    {
     "name": "stderr",
     "output_type": "stream",
     "text": [
      "100%|███████████████████████████████████████████████████████████████████████████████| 779/779 [00:04<00:00, 179.84it/s]\n"
     ]
    }
   ],
   "source": [
    "tr_size=0.5\n",
    "np.random.seed(50)\n",
    "num = np.random.binomial(1, tr_size, num_images)\n",
    "\n",
    "i = 0\n",
    "for file in tqdm(df['file'].values):\n",
    "    from_path = data_dir + file\n",
    "    if num[i] == 1:\n",
    "        to_path = valtest_dir + 'val/' + file\n",
    "    else:\n",
    "        to_path = valtest_dir + 'test/' + file\n",
    "        \n",
    "    copyfile(from_path, to_path)\n",
    "    i += 1"
   ]
  },
  {
   "cell_type": "code",
   "execution_count": 10,
   "metadata": {},
   "outputs": [],
   "source": [
    "val_DIR = 'E:/dataset/Corn/Split_data/valtest/val/'\n",
    "test_DIR = 'E:/dataset/Corn/Split_data/valtest/test/'"
   ]
  },
  {
   "cell_type": "code",
   "execution_count": 11,
   "metadata": {},
   "outputs": [
    {
     "name": "stdout",
     "output_type": "stream",
     "text": [
      "number of train images 376\n",
      "number of test images 403\n"
     ]
    }
   ],
   "source": [
    "df = []\n",
    "for label, class_name in enumerate(classes):\n",
    "    #TRAIN\n",
    "    path = val_DIR + class_name\n",
    "    for file in os.listdir(path):\n",
    "        df.append(['{}/{}'.format(class_name, file), label, class_name, 1])\n",
    "    #TEST\n",
    "    path = test_DIR + class_name\n",
    "    for file in os.listdir(path):\n",
    "        df.append(['{}/{}'.format(class_name, file), label, class_name, 0])\n",
    "        \n",
    "        \n",
    "df = pd.DataFrame(df, columns=['file', 'label', 'class_name', 'train_ind'])\n",
    "\n",
    "num_train_samples = df.train_ind.sum()\n",
    "num_test_samples = len(df) - num_train_samples\n",
    "\n",
    "print(\"number of train images\", num_train_samples)\n",
    "print(\"number of test images\", num_test_samples)"
   ]
  },
  {
   "cell_type": "code",
   "execution_count": null,
   "metadata": {},
   "outputs": [],
   "source": []
  },
  {
   "cell_type": "code",
   "execution_count": null,
   "metadata": {},
   "outputs": [],
   "source": []
  }
 ],
 "metadata": {
  "kernelspec": {
   "display_name": "Python 3",
   "language": "python",
   "name": "python3"
  },
  "language_info": {
   "codemirror_mode": {
    "name": "ipython",
    "version": 3
   },
   "file_extension": ".py",
   "mimetype": "text/x-python",
   "name": "python",
   "nbconvert_exporter": "python",
   "pygments_lexer": "ipython3",
   "version": "3.7.6"
  }
 },
 "nbformat": 4,
 "nbformat_minor": 4
}
